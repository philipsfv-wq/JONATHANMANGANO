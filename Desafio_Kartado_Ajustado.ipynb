{
  "cells": [
    {
      "cell_type": "markdown",
      "metadata": {
        "id": "view-in-github",
        "colab_type": "text"
      },
      "source": [
        "<a href=\"https://colab.research.google.com/github/philipsfv-wq/JONATHANMANGANO/blob/main/Desafio_Kartado_Ajustado.ipynb\" target=\"_parent\"><img src=\"https://colab.research.google.com/assets/colab-badge.svg\" alt=\"Open In Colab\"/></a>"
      ]
    },
    {
      "cell_type": "code",
      "id": "9345253f",
      "metadata": {
        "ExecuteTime": {
          "end_time": "2025-10-15T21:06:01.703492Z",
          "start_time": "2025-10-15T21:06:01.605762Z"
        },
        "colab": {
          "base_uri": "https://localhost:8080/"
        },
        "id": "9345253f",
        "outputId": "4941576e-a175-46b0-a4f1-4d1cc05c637b"
      },
      "source": [
        "from openpyxl import load_workbook\n",
        "import pandas as pd\n",
        "from datetime import datetime\n",
        "\n",
        "# --- Parte 1: Leitura da planilha ---\n",
        "\n",
        "filename='Planilha_Cliente_Com_Erros.xlsx'\n",
        "\n",
        "# Ensure the file exists in the Colab environment before attempting to load\n",
        "try:\n",
        "    wb = load_workbook(filename=filename)\n",
        "except FileNotFoundError:\n",
        "    print(f\"Error: The file '{filename}' was not found.\")\n",
        "    print(\"Please upload the file to your Colab environment.\")\n",
        "    # You can add code here to handle the missing file, e.g., exit or ask the user to upload\n",
        "    raise # Re-raise the exception so the user sees it\n",
        "\n",
        "sheet = wb[wb.sheetnames[1]] # Assumindo que a aba de dados é a segunda (Microrrevestimento)\n",
        "data = []\n",
        "\n",
        "headers = [cell.value for cell in sheet[1]]\n",
        "\n",
        "for row in sheet.iter_rows(min_row=2):\n",
        "    row_dict = {}\n",
        "    for key, cell in zip(headers, row):\n",
        "        row_dict[key] = cell.value\n",
        "    data.append(row_dict)\n",
        "\n",
        "# Filtro pra utilizar somente as linhas da planilha com dados\n",
        "data = data[0:23]\n",
        "\n",
        "# --- Funções de Correção Auxiliares ---\n",
        "\n",
        "def arredondar_para_float(valor, casas=3):\n",
        "    \"\"\"Converte para float e arredonda para N casas decimais.\"\"\"\n",
        "    try:\n",
        "        return round(float(valor), casas)\n",
        "    except (TypeError, ValueError):\n",
        "        return valor\n",
        "\n",
        "def formatar_data(valor):\n",
        "    \"\"\"Converte valores numéricos do Excel (44805) ou objetos datetime em objeto datetime.\"\"\"\n",
        "    if isinstance(valor, (int, float)):\n",
        "        return pd.to_datetime('1899-12-30') + pd.to_timedelta(valor, unit='D')\n",
        "    elif isinstance(valor, datetime):\n",
        "        return valor\n",
        "    return valor\n",
        "\n",
        "# --- Parte 2: Implementação das Correções ---\n",
        "\n",
        "for i, apontamento in enumerate(data):\n",
        "\n",
        "    # 1. Comprimento (Inteiro)\n",
        "    comprimento_ajustado = arredondar_para_float(apontamento.get('Comprimento (m)'), casas=0)\n",
        "    try:\n",
        "        # Check if the adjusted value is a number before converting to int\n",
        "        if isinstance(comprimento_ajustado, (int, float)):\n",
        "            apontamento['Comprimento (m)'] = int(comprimento_ajustado)\n",
        "        else:\n",
        "            apontamento['Comprimento (m)'] = apontamento.get('Comprimento (m)') # Keep original value if not convertible\n",
        "    except (TypeError, ValueError):\n",
        "        apontamento['Comprimento (m)'] = apontamento.get('Comprimento (m)')  # Mantém valor original\n",
        "\n",
        "    # 2. Largura (Float com 3 casas decimais)\n",
        "    largura_ajustada = arredondar_para_float(apontamento.get('Largura (m)'), casas=3)\n",
        "    apontamento['Largura (m)'] = largura_ajustada\n",
        "\n",
        "    # 3. Classe ('Trinc' -> 'Trincas')\n",
        "    classe = apontamento.get('Classe')\n",
        "    if classe == 'Trinc':\n",
        "        apontamento['Classe'] = 'Trincas'\n",
        "\n",
        "    # 4. Data (ex: '44805' -> data)\n",
        "    data_encontrado = apontamento.get('Encontrado em')\n",
        "    if data_encontrado is not None: # Check if the value is not None before formatting\n",
        "        apontamento['Encontrado em'] = formatar_data(data_encontrado)\n",
        "\n",
        "\n",
        "    # 5. Sentido ('Nordeste' -> 'Não se Aplica')\n",
        "    if apontamento.get('Sentido') == 'Nordeste':\n",
        "         apontamento['Sentido'] = 'Não se Aplica'\n",
        "\n",
        "# --- Parte 3: Análise ---\n",
        "\n",
        "dados = {}\n",
        "for a in data:\n",
        "    classe = a.get('Classe')\n",
        "    if classe:\n",
        "        dados[classe] = dados.get(classe, 0) + 1\n",
        "\n",
        "print(dados)"
      ],
      "outputs": [
        {
          "output_type": "stream",
          "name": "stdout",
          "text": [
            "{'Microrrevestimento': 18, 'Trincas': 3, 'Panos': 2}\n"
          ]
        },
        {
          "output_type": "stream",
          "name": "stderr",
          "text": [
            "/usr/local/lib/python3.12/dist-packages/openpyxl/worksheet/_reader.py:329: UserWarning: Data Validation extension is not supported and will be removed\n",
            "  warn(msg)\n"
          ]
        }
      ],
      "execution_count": 45
    },
    {
      "cell_type": "code",
      "metadata": {
        "colab": {
          "base_uri": "https://localhost:8080/",
          "height": 17
        },
        "id": "854f8941",
        "outputId": "00033630-d238-485a-8247-6e052bf4a7ec"
      },
      "source": [
        "# Save the DataFrame to an Excel file\n",
        "output_filename = 'Planilha_Cliente_Corrigida.xlsx'\n",
        "df.to_excel(output_filename, index=False)\n",
        "\n",
        "# Provide a download link\n",
        "from google.colab import files\n",
        "files.download(output_filename)"
      ],
      "id": "854f8941",
      "execution_count": 46,
      "outputs": [
        {
          "output_type": "display_data",
          "data": {
            "text/plain": [
              "<IPython.core.display.Javascript object>"
            ],
            "application/javascript": [
              "\n",
              "    async function download(id, filename, size) {\n",
              "      if (!google.colab.kernel.accessAllowed) {\n",
              "        return;\n",
              "      }\n",
              "      const div = document.createElement('div');\n",
              "      const label = document.createElement('label');\n",
              "      label.textContent = `Downloading \"${filename}\": `;\n",
              "      div.appendChild(label);\n",
              "      const progress = document.createElement('progress');\n",
              "      progress.max = size;\n",
              "      div.appendChild(progress);\n",
              "      document.body.appendChild(div);\n",
              "\n",
              "      const buffers = [];\n",
              "      let downloaded = 0;\n",
              "\n",
              "      const channel = await google.colab.kernel.comms.open(id);\n",
              "      // Send a message to notify the kernel that we're ready.\n",
              "      channel.send({})\n",
              "\n",
              "      for await (const message of channel.messages) {\n",
              "        // Send a message to notify the kernel that we're ready.\n",
              "        channel.send({})\n",
              "        if (message.buffers) {\n",
              "          for (const buffer of message.buffers) {\n",
              "            buffers.push(buffer);\n",
              "            downloaded += buffer.byteLength;\n",
              "            progress.value = downloaded;\n",
              "          }\n",
              "        }\n",
              "      }\n",
              "      const blob = new Blob(buffers, {type: 'application/binary'});\n",
              "      const a = document.createElement('a');\n",
              "      a.href = window.URL.createObjectURL(blob);\n",
              "      a.download = filename;\n",
              "      div.appendChild(a);\n",
              "      a.click();\n",
              "      div.remove();\n",
              "    }\n",
              "  "
            ]
          },
          "metadata": {}
        },
        {
          "output_type": "display_data",
          "data": {
            "text/plain": [
              "<IPython.core.display.Javascript object>"
            ],
            "application/javascript": [
              "download(\"download_792396df-08d3-431c-a071-c09bea65586f\", \"Planilha_Cliente_Corrigida.xlsx\", 8020)"
            ]
          },
          "metadata": {}
        }
      ]
    },
    {
      "cell_type": "code",
      "metadata": {
        "colab": {
          "base_uri": "https://localhost:8080/",
          "height": 394
        },
        "id": "25661565",
        "outputId": "899b7bc5-4ca2-4327-d529-fad4b3f05bd6"
      },
      "source": [
        "df = pd.DataFrame(data)\n",
        "display(df.head())"
      ],
      "id": "25661565",
      "execution_count": 47,
      "outputs": [
        {
          "output_type": "display_data",
          "data": {
            "text/plain": [
              "     km  km final km de Projeto km final de Projeto        Status  \\\n",
              "0  0.36      0.85          None                None  Identificado   \n",
              "1  0.36      1.36          None                None  Identificado   \n",
              "2  0.64      1.64          None                None  Identificado   \n",
              "3  0.64      1.64          None                None  Identificado   \n",
              "4  0.86      1.31          None                None  Identificado   \n",
              "\n",
              "  Equipe/Empreiteira Encontrado em Executado em      Prazo Sentido  ...  \\\n",
              "0           Insttale    2022-09-01         None 2022-12-22     Sul  ...   \n",
              "1           Insttale    2022-09-01         None 2022-12-22   Norte  ...   \n",
              "2           Insttale    2022-09-01         None 2022-12-22     Sul  ...   \n",
              "3           Insttale    2022-09-01         None 2022-12-22   Norte  ...   \n",
              "4           Insttale    2022-09-01         None 2022-12-22     Sul  ...   \n",
              "\n",
              "  Cód interno    Lote Comprimento (m) Largura (m)        Observações  \\\n",
              "0        None  Lote 3             490         3.6          MFS+Micro   \n",
              "1        None  Lote 3            1000         3.6          MFS+Micro   \n",
              "2        None  Lote 3            1000         2.5              Micro   \n",
              "3        None  Lote 3            1000         2.5              Micro   \n",
              "4        None  Lote 3             450         3.6  FS(20%)+MFS+Micro   \n",
              "\n",
              "  Recurso_1 Quantidade_1  Recurso_2  Quantidade_2  \\\n",
              "0       MFS       =R2*S2      Micro        =R2*S2   \n",
              "1       MFS       =R3*S3      Micro        =R3*S3   \n",
              "2     Micro       =R4*S4       None          None   \n",
              "3     Micro       =R5*S5       None          None   \n",
              "4      None       =R6*S6       None          None   \n",
              "\n",
              "                                            caminho   \n",
              "0                                               None  \n",
              "1                                               None  \n",
              "2                                               None  \n",
              "3  https://kartadotest.sharepoint.com/:f:/s/Karta...  \n",
              "4  https://kartadotest.sharepoint.com/:f:/s/Karta...  \n",
              "\n",
              "[5 rows x 25 columns]"
            ],
            "text/html": [
              "\n",
              "  <div id=\"df-095ed60c-ae89-4db2-97a5-3b0ccc7eeb93\" class=\"colab-df-container\">\n",
              "    <div>\n",
              "<style scoped>\n",
              "    .dataframe tbody tr th:only-of-type {\n",
              "        vertical-align: middle;\n",
              "    }\n",
              "\n",
              "    .dataframe tbody tr th {\n",
              "        vertical-align: top;\n",
              "    }\n",
              "\n",
              "    .dataframe thead th {\n",
              "        text-align: right;\n",
              "    }\n",
              "</style>\n",
              "<table border=\"1\" class=\"dataframe\">\n",
              "  <thead>\n",
              "    <tr style=\"text-align: right;\">\n",
              "      <th></th>\n",
              "      <th>km</th>\n",
              "      <th>km final</th>\n",
              "      <th>km de Projeto</th>\n",
              "      <th>km final de Projeto</th>\n",
              "      <th>Status</th>\n",
              "      <th>Equipe/Empreiteira</th>\n",
              "      <th>Encontrado em</th>\n",
              "      <th>Executado em</th>\n",
              "      <th>Prazo</th>\n",
              "      <th>Sentido</th>\n",
              "      <th>...</th>\n",
              "      <th>Cód interno</th>\n",
              "      <th>Lote</th>\n",
              "      <th>Comprimento (m)</th>\n",
              "      <th>Largura (m)</th>\n",
              "      <th>Observações</th>\n",
              "      <th>Recurso_1</th>\n",
              "      <th>Quantidade_1</th>\n",
              "      <th>Recurso_2</th>\n",
              "      <th>Quantidade_2</th>\n",
              "      <th>caminho</th>\n",
              "    </tr>\n",
              "  </thead>\n",
              "  <tbody>\n",
              "    <tr>\n",
              "      <th>0</th>\n",
              "      <td>0.36</td>\n",
              "      <td>0.85</td>\n",
              "      <td>None</td>\n",
              "      <td>None</td>\n",
              "      <td>Identificado</td>\n",
              "      <td>Insttale</td>\n",
              "      <td>2022-09-01</td>\n",
              "      <td>None</td>\n",
              "      <td>2022-12-22</td>\n",
              "      <td>Sul</td>\n",
              "      <td>...</td>\n",
              "      <td>None</td>\n",
              "      <td>Lote 3</td>\n",
              "      <td>490</td>\n",
              "      <td>3.6</td>\n",
              "      <td>MFS+Micro</td>\n",
              "      <td>MFS</td>\n",
              "      <td>=R2*S2</td>\n",
              "      <td>Micro</td>\n",
              "      <td>=R2*S2</td>\n",
              "      <td>None</td>\n",
              "    </tr>\n",
              "    <tr>\n",
              "      <th>1</th>\n",
              "      <td>0.36</td>\n",
              "      <td>1.36</td>\n",
              "      <td>None</td>\n",
              "      <td>None</td>\n",
              "      <td>Identificado</td>\n",
              "      <td>Insttale</td>\n",
              "      <td>2022-09-01</td>\n",
              "      <td>None</td>\n",
              "      <td>2022-12-22</td>\n",
              "      <td>Norte</td>\n",
              "      <td>...</td>\n",
              "      <td>None</td>\n",
              "      <td>Lote 3</td>\n",
              "      <td>1000</td>\n",
              "      <td>3.6</td>\n",
              "      <td>MFS+Micro</td>\n",
              "      <td>MFS</td>\n",
              "      <td>=R3*S3</td>\n",
              "      <td>Micro</td>\n",
              "      <td>=R3*S3</td>\n",
              "      <td>None</td>\n",
              "    </tr>\n",
              "    <tr>\n",
              "      <th>2</th>\n",
              "      <td>0.64</td>\n",
              "      <td>1.64</td>\n",
              "      <td>None</td>\n",
              "      <td>None</td>\n",
              "      <td>Identificado</td>\n",
              "      <td>Insttale</td>\n",
              "      <td>2022-09-01</td>\n",
              "      <td>None</td>\n",
              "      <td>2022-12-22</td>\n",
              "      <td>Sul</td>\n",
              "      <td>...</td>\n",
              "      <td>None</td>\n",
              "      <td>Lote 3</td>\n",
              "      <td>1000</td>\n",
              "      <td>2.5</td>\n",
              "      <td>Micro</td>\n",
              "      <td>Micro</td>\n",
              "      <td>=R4*S4</td>\n",
              "      <td>None</td>\n",
              "      <td>None</td>\n",
              "      <td>None</td>\n",
              "    </tr>\n",
              "    <tr>\n",
              "      <th>3</th>\n",
              "      <td>0.64</td>\n",
              "      <td>1.64</td>\n",
              "      <td>None</td>\n",
              "      <td>None</td>\n",
              "      <td>Identificado</td>\n",
              "      <td>Insttale</td>\n",
              "      <td>2022-09-01</td>\n",
              "      <td>None</td>\n",
              "      <td>2022-12-22</td>\n",
              "      <td>Norte</td>\n",
              "      <td>...</td>\n",
              "      <td>None</td>\n",
              "      <td>Lote 3</td>\n",
              "      <td>1000</td>\n",
              "      <td>2.5</td>\n",
              "      <td>Micro</td>\n",
              "      <td>Micro</td>\n",
              "      <td>=R5*S5</td>\n",
              "      <td>None</td>\n",
              "      <td>None</td>\n",
              "      <td>https://kartadotest.sharepoint.com/:f:/s/Karta...</td>\n",
              "    </tr>\n",
              "    <tr>\n",
              "      <th>4</th>\n",
              "      <td>0.86</td>\n",
              "      <td>1.31</td>\n",
              "      <td>None</td>\n",
              "      <td>None</td>\n",
              "      <td>Identificado</td>\n",
              "      <td>Insttale</td>\n",
              "      <td>2022-09-01</td>\n",
              "      <td>None</td>\n",
              "      <td>2022-12-22</td>\n",
              "      <td>Sul</td>\n",
              "      <td>...</td>\n",
              "      <td>None</td>\n",
              "      <td>Lote 3</td>\n",
              "      <td>450</td>\n",
              "      <td>3.6</td>\n",
              "      <td>FS(20%)+MFS+Micro</td>\n",
              "      <td>None</td>\n",
              "      <td>=R6*S6</td>\n",
              "      <td>None</td>\n",
              "      <td>None</td>\n",
              "      <td>https://kartadotest.sharepoint.com/:f:/s/Karta...</td>\n",
              "    </tr>\n",
              "  </tbody>\n",
              "</table>\n",
              "<p>5 rows × 25 columns</p>\n",
              "</div>\n",
              "    <div class=\"colab-df-buttons\">\n",
              "\n",
              "  <div class=\"colab-df-container\">\n",
              "    <button class=\"colab-df-convert\" onclick=\"convertToInteractive('df-095ed60c-ae89-4db2-97a5-3b0ccc7eeb93')\"\n",
              "            title=\"Convert this dataframe to an interactive table.\"\n",
              "            style=\"display:none;\">\n",
              "\n",
              "  <svg xmlns=\"http://www.w3.org/2000/svg\" height=\"24px\" viewBox=\"0 -960 960 960\">\n",
              "    <path d=\"M120-120v-720h720v720H120Zm60-500h600v-160H180v160Zm220 220h160v-160H400v160Zm0 220h160v-160H400v160ZM180-400h160v-160H180v160Zm440 0h160v-160H620v160ZM180-180h160v-160H180v160Zm440 0h160v-160H620v160Z\"/>\n",
              "  </svg>\n",
              "    </button>\n",
              "\n",
              "  <style>\n",
              "    .colab-df-container {\n",
              "      display:flex;\n",
              "      gap: 12px;\n",
              "    }\n",
              "\n",
              "    .colab-df-convert {\n",
              "      background-color: #E8F0FE;\n",
              "      border: none;\n",
              "      border-radius: 50%;\n",
              "      cursor: pointer;\n",
              "      display: none;\n",
              "      fill: #1967D2;\n",
              "      height: 32px;\n",
              "      padding: 0 0 0 0;\n",
              "      width: 32px;\n",
              "    }\n",
              "\n",
              "    .colab-df-convert:hover {\n",
              "      background-color: #E2EBFA;\n",
              "      box-shadow: 0px 1px 2px rgba(60, 64, 67, 0.3), 0px 1px 3px 1px rgba(60, 64, 67, 0.15);\n",
              "      fill: #174EA6;\n",
              "    }\n",
              "\n",
              "    .colab-df-buttons div {\n",
              "      margin-bottom: 4px;\n",
              "    }\n",
              "\n",
              "    [theme=dark] .colab-df-convert {\n",
              "      background-color: #3B4455;\n",
              "      fill: #D2E3FC;\n",
              "    }\n",
              "\n",
              "    [theme=dark] .colab-df-convert:hover {\n",
              "      background-color: #434B5C;\n",
              "      box-shadow: 0px 1px 3px 1px rgba(0, 0, 0, 0.15);\n",
              "      filter: drop-shadow(0px 1px 2px rgba(0, 0, 0, 0.3));\n",
              "      fill: #FFFFFF;\n",
              "    }\n",
              "  </style>\n",
              "\n",
              "    <script>\n",
              "      const buttonEl =\n",
              "        document.querySelector('#df-095ed60c-ae89-4db2-97a5-3b0ccc7eeb93 button.colab-df-convert');\n",
              "      buttonEl.style.display =\n",
              "        google.colab.kernel.accessAllowed ? 'block' : 'none';\n",
              "\n",
              "      async function convertToInteractive(key) {\n",
              "        const element = document.querySelector('#df-095ed60c-ae89-4db2-97a5-3b0ccc7eeb93');\n",
              "        const dataTable =\n",
              "          await google.colab.kernel.invokeFunction('convertToInteractive',\n",
              "                                                    [key], {});\n",
              "        if (!dataTable) return;\n",
              "\n",
              "        const docLinkHtml = 'Like what you see? Visit the ' +\n",
              "          '<a target=\"_blank\" href=https://colab.research.google.com/notebooks/data_table.ipynb>data table notebook</a>'\n",
              "          + ' to learn more about interactive tables.';\n",
              "        element.innerHTML = '';\n",
              "        dataTable['output_type'] = 'display_data';\n",
              "        await google.colab.output.renderOutput(dataTable, element);\n",
              "        const docLink = document.createElement('div');\n",
              "        docLink.innerHTML = docLinkHtml;\n",
              "        element.appendChild(docLink);\n",
              "      }\n",
              "    </script>\n",
              "  </div>\n",
              "\n",
              "\n",
              "    <div id=\"df-8d862df1-6d6d-41ff-918a-46ad7273096f\">\n",
              "      <button class=\"colab-df-quickchart\" onclick=\"quickchart('df-8d862df1-6d6d-41ff-918a-46ad7273096f')\"\n",
              "                title=\"Suggest charts\"\n",
              "                style=\"display:none;\">\n",
              "\n",
              "<svg xmlns=\"http://www.w3.org/2000/svg\" height=\"24px\"viewBox=\"0 0 24 24\"\n",
              "     width=\"24px\">\n",
              "    <g>\n",
              "        <path d=\"M19 3H5c-1.1 0-2 .9-2 2v14c0 1.1.9 2 2 2h14c1.1 0 2-.9 2-2V5c0-1.1-.9-2-2-2zM9 17H7v-7h2v7zm4 0h-2V7h2v10zm4 0h-2v-4h2v4z\"/>\n",
              "    </g>\n",
              "</svg>\n",
              "      </button>\n",
              "\n",
              "<style>\n",
              "  .colab-df-quickchart {\n",
              "      --bg-color: #E8F0FE;\n",
              "      --fill-color: #1967D2;\n",
              "      --hover-bg-color: #E2EBFA;\n",
              "      --hover-fill-color: #174EA6;\n",
              "      --disabled-fill-color: #AAA;\n",
              "      --disabled-bg-color: #DDD;\n",
              "  }\n",
              "\n",
              "  [theme=dark] .colab-df-quickchart {\n",
              "      --bg-color: #3B4455;\n",
              "      --fill-color: #D2E3FC;\n",
              "      --hover-bg-color: #434B5C;\n",
              "      --hover-fill-color: #FFFFFF;\n",
              "      --disabled-bg-color: #3B4455;\n",
              "      --disabled-fill-color: #666;\n",
              "  }\n",
              "\n",
              "  .colab-df-quickchart {\n",
              "    background-color: var(--bg-color);\n",
              "    border: none;\n",
              "    border-radius: 50%;\n",
              "    cursor: pointer;\n",
              "    display: none;\n",
              "    fill: var(--fill-color);\n",
              "    height: 32px;\n",
              "    padding: 0;\n",
              "    width: 32px;\n",
              "  }\n",
              "\n",
              "  .colab-df-quickchart:hover {\n",
              "    background-color: var(--hover-bg-color);\n",
              "    box-shadow: 0 1px 2px rgba(60, 64, 67, 0.3), 0 1px 3px 1px rgba(60, 64, 67, 0.15);\n",
              "    fill: var(--button-hover-fill-color);\n",
              "  }\n",
              "\n",
              "  .colab-df-quickchart-complete:disabled,\n",
              "  .colab-df-quickchart-complete:disabled:hover {\n",
              "    background-color: var(--disabled-bg-color);\n",
              "    fill: var(--disabled-fill-color);\n",
              "    box-shadow: none;\n",
              "  }\n",
              "\n",
              "  .colab-df-spinner {\n",
              "    border: 2px solid var(--fill-color);\n",
              "    border-color: transparent;\n",
              "    border-bottom-color: var(--fill-color);\n",
              "    animation:\n",
              "      spin 1s steps(1) infinite;\n",
              "  }\n",
              "\n",
              "  @keyframes spin {\n",
              "    0% {\n",
              "      border-color: transparent;\n",
              "      border-bottom-color: var(--fill-color);\n",
              "      border-left-color: var(--fill-color);\n",
              "    }\n",
              "    20% {\n",
              "      border-color: transparent;\n",
              "      border-left-color: var(--fill-color);\n",
              "      border-top-color: var(--fill-color);\n",
              "    }\n",
              "    30% {\n",
              "      border-color: transparent;\n",
              "      border-left-color: var(--fill-color);\n",
              "      border-top-color: var(--fill-color);\n",
              "      border-right-color: var(--fill-color);\n",
              "    }\n",
              "    40% {\n",
              "      border-color: transparent;\n",
              "      border-right-color: var(--fill-color);\n",
              "      border-top-color: var(--fill-color);\n",
              "    }\n",
              "    60% {\n",
              "      border-color: transparent;\n",
              "      border-right-color: var(--fill-color);\n",
              "    }\n",
              "    80% {\n",
              "      border-color: transparent;\n",
              "      border-right-color: var(--fill-color);\n",
              "      border-bottom-color: var(--fill-color);\n",
              "    }\n",
              "    90% {\n",
              "      border-color: transparent;\n",
              "      border-bottom-color: var(--fill-color);\n",
              "    }\n",
              "  }\n",
              "</style>\n",
              "\n",
              "      <script>\n",
              "        async function quickchart(key) {\n",
              "          const quickchartButtonEl =\n",
              "            document.querySelector('#' + key + ' button');\n",
              "          quickchartButtonEl.disabled = true;  // To prevent multiple clicks.\n",
              "          quickchartButtonEl.classList.add('colab-df-spinner');\n",
              "          try {\n",
              "            const charts = await google.colab.kernel.invokeFunction(\n",
              "                'suggestCharts', [key], {});\n",
              "          } catch (error) {\n",
              "            console.error('Error during call to suggestCharts:', error);\n",
              "          }\n",
              "          quickchartButtonEl.classList.remove('colab-df-spinner');\n",
              "          quickchartButtonEl.classList.add('colab-df-quickchart-complete');\n",
              "        }\n",
              "        (() => {\n",
              "          let quickchartButtonEl =\n",
              "            document.querySelector('#df-8d862df1-6d6d-41ff-918a-46ad7273096f button');\n",
              "          quickchartButtonEl.style.display =\n",
              "            google.colab.kernel.accessAllowed ? 'block' : 'none';\n",
              "        })();\n",
              "      </script>\n",
              "    </div>\n",
              "\n",
              "    </div>\n",
              "  </div>\n"
            ],
            "application/vnd.google.colaboratory.intrinsic+json": {
              "type": "dataframe"
            }
          },
          "metadata": {}
        }
      ]
    },
    {
      "cell_type": "markdown",
      "metadata": {
        "id": "5dbf1d55"
      },
      "source": [
        "# Task\n",
        "Maintain the data from \"Planilha_Cliente_Com_Erros.xlsx\", apply the corrections defined in the code, and generate a downloadable Excel file with the formatting of \"Template_Kartado_Limpo.xlsx\"."
      ],
      "id": "5dbf1d55"
    },
    {
      "cell_type": "markdown",
      "metadata": {
        "id": "103d8c8d"
      },
      "source": [
        "## Load data from the source file\n",
        "\n",
        "### Subtask:\n",
        "Load the data from `Planilha_Cliente_Com_Erros.xlsx` and apply the necessary corrections as defined in the current code.\n"
      ],
      "id": "103d8c8d"
    },
    {
      "cell_type": "markdown",
      "metadata": {
        "id": "caec3fe8"
      },
      "source": [
        "**Reasoning**:\n",
        "The first code cell already contains the logic to load the data and apply the corrections. Executing this cell will perform the required steps of the subtask.\n",
        "\n"
      ],
      "id": "caec3fe8"
    },
    {
      "cell_type": "code",
      "metadata": {
        "colab": {
          "base_uri": "https://localhost:8080/"
        },
        "id": "d81f1a19",
        "outputId": "f302b9c9-5208-497c-bdbc-7284a7e559fb"
      },
      "source": [
        "from openpyxl import load_workbook\n",
        "import pandas as pd\n",
        "from datetime import datetime\n",
        "\n",
        "# --- Parte 1: Leitura da planilha ---\n",
        "\n",
        "filename='Planilha_Cliente_Com_Erros.xlsx'\n",
        "\n",
        "# Ensure the file exists in the Colab environment before attempting to load\n",
        "try:\n",
        "    wb = load_workbook(filename=filename)\n",
        "except FileNotFoundError:\n",
        "    print(f\"Error: The file '{filename}' was not found.\")\n",
        "    print(\"Please upload the file to your Colab environment.\")\n",
        "    # You can add code here to handle the missing file, e.g., exit or ask the user to upload\n",
        "    raise # Re-raise the exception so the user sees it\n",
        "\n",
        "sheet = wb[wb.sheetnames[1]] # Assumindo que a aba de dados é a segunda (Microrrevestimento)\n",
        "data = []\n",
        "\n",
        "headers = [cell.value for cell in sheet[1]]\n",
        "\n",
        "for row in sheet.iter_rows(min_row=2):\n",
        "    row_dict = {}\n",
        "    for key, cell in zip(headers, row):\n",
        "        row_dict[key] = cell.value\n",
        "    data.append(row_dict)\n",
        "\n",
        "# Filtro pra utilizar somente as linhas da planilha com dados\n",
        "data = data[0:23]\n",
        "\n",
        "# --- Funções de Correção Auxiliares ---\n",
        "\n",
        "def arredondar_para_float(valor, casas=3):\n",
        "    \"\"\"Converte para float e arredonda para N casas decimais.\"\"\"\n",
        "    try:\n",
        "        return round(float(valor), casas)\n",
        "    except (TypeError, ValueError):\n",
        "        return valor\n",
        "\n",
        "def formatar_data(valor):\n",
        "    \"\"\"Converte valores numéricos do Excel (44805) ou objetos datetime em objeto datetime.\"\"\"\n",
        "    if isinstance(valor, (int, float)):\n",
        "        return pd.to_datetime('1899-12-30') + pd.to_timedelta(valor, unit='D')\n",
        "    elif isinstance(valor, datetime):\n",
        "        return valor\n",
        "    return valor\n",
        "\n",
        "# --- Parte 2: Implementação das Correções ---\n",
        "\n",
        "for i, apontamento in enumerate(data):\n",
        "\n",
        "    # 1. Comprimento (Inteiro)\n",
        "    comprimento_ajustado = arredondar_para_float(apontamento.get('Comprimento (m)'), casas=0)\n",
        "    try:\n",
        "        # Check if the adjusted value is a number before converting to int\n",
        "        if isinstance(comprimento_ajustado, (int, float)):\n",
        "            apontamento['Comprimento (m)'] = int(comprimento_ajustado)\n",
        "        else:\n",
        "            apontamento['Comprimento (m)'] = apontamento.get('Comprimento (m)') # Keep original value if not convertible\n",
        "    except (TypeError, ValueError):\n",
        "        apontamento['Comprimento (m)'] = apontamento.get('Comprimento (m)')  # Mantém valor original\n",
        "\n",
        "    # 2. Largura (Float com 3 casas decimais)\n",
        "    largura_ajustada = arredondar_para_float(apontamento.get('Largura (m)'), casas=3)\n",
        "    apontamento['Largura (m)'] = largura_ajustada\n",
        "\n",
        "    # 3. Classe ('Trinc' -> 'Trincas')\n",
        "    classe = apontamento.get('Classe')\n",
        "    if classe == 'Trinc':\n",
        "        apontamento['Classe'] = 'Trincas'\n",
        "\n",
        "    # 4. Data (ex: '44805' -> data)\n",
        "    data_encontrado = apontamento.get('Encontrado em')\n",
        "    if data_encontrado is not None: # Check if the value is not None before formatting\n",
        "        apontamento['Encontrado em'] = formatar_data(data_encontrado)\n",
        "\n",
        "\n",
        "    # 5. Sentido ('Nordeste' -> 'Não se Aplica')\n",
        "    if apontamento.get('Sentido') == 'Nordeste':\n",
        "         apontamento['Sentido'] = 'Não se Aplica'\n",
        "\n",
        "# --- Parte 3: Análise ---\n",
        "\n",
        "dados = {}\n",
        "for a in data:\n",
        "    classe = a.get('Classe')\n",
        "    if classe:\n",
        "        dados[classe] = dados.get(classe, 0) + 1\n",
        "\n",
        "print(dados)"
      ],
      "id": "d81f1a19",
      "execution_count": 48,
      "outputs": [
        {
          "output_type": "stream",
          "name": "stdout",
          "text": [
            "{'Microrrevestimento': 18, 'Trincas': 3, 'Panos': 2}\n"
          ]
        },
        {
          "output_type": "stream",
          "name": "stderr",
          "text": [
            "/usr/local/lib/python3.12/dist-packages/openpyxl/worksheet/_reader.py:329: UserWarning: Data Validation extension is not supported and will be removed\n",
            "  warn(msg)\n"
          ]
        }
      ]
    },
    {
      "cell_type": "markdown",
      "metadata": {
        "id": "2de41909"
      },
      "source": [
        "## Load the template file\n",
        "\n",
        "### Subtask:\n",
        "Load the `Template_Kartado_Limpo.xlsx` file using `openpyxl` to preserve its formatting.\n"
      ],
      "id": "2de41909"
    },
    {
      "cell_type": "markdown",
      "metadata": {
        "id": "226d4770"
      },
      "source": [
        "**Reasoning**:\n",
        "Load the template Excel file using openpyxl to preserve its formatting.\n",
        "\n"
      ],
      "id": "226d4770"
    },
    {
      "cell_type": "code",
      "metadata": {
        "id": "77187f65"
      },
      "source": [
        "template_filename = 'Template_Kartado_Limpo.xlsx'\n",
        "\n",
        "try:\n",
        "    template_wb = load_workbook(filename=template_filename)\n",
        "except FileNotFoundError:\n",
        "    print(f\"Error: The file '{template_filename}' was not found.\")\n",
        "    print(\"Please upload the file to your Colab environment.\")\n",
        "    raise # Re-raise the exception so the user sees it\n",
        "\n",
        "template_sheet = template_wb.active"
      ],
      "id": "77187f65",
      "execution_count": 49,
      "outputs": []
    },
    {
      "cell_type": "markdown",
      "metadata": {
        "id": "25576d47"
      },
      "source": [
        "## Prepare data for writing\n",
        "\n",
        "### Subtask:\n",
        "Ensure the processed data from the source file is in a format suitable for writing into the template, aligning with the template's column structure.\n"
      ],
      "id": "25576d47"
    },
    {
      "cell_type": "markdown",
      "metadata": {
        "id": "bd4ee70b"
      },
      "source": [
        "**Reasoning**:\n",
        "Create a new list to store the data in the order of the template columns and iterate through each dictionary in the `data` list to create a new list containing the values in the order that matches the column order of the `template_sheet`, then append this newly created list of ordered values to the list created in step 1.\n",
        "\n"
      ],
      "id": "bd4ee70b"
    },
    {
      "cell_type": "code",
      "metadata": {
        "id": "16e9f109"
      },
      "source": [
        "ordered_data = []\n",
        "template_headers = [cell.value for cell in template_sheet[1]]\n",
        "\n",
        "for apontamento in data:\n",
        "    ordered_row = []\n",
        "    for header in template_headers:\n",
        "        # Get the value from the source data dictionary using the template header\n",
        "        # If the header doesn't exist in the source data, use None\n",
        "        ordered_row.append(apontamento.get(header, None))\n",
        "    ordered_data.append(ordered_row)\n",
        "\n",
        "# You can display the first few rows of ordered_data to verify\n",
        "# print(ordered_data[:5])"
      ],
      "id": "16e9f109",
      "execution_count": 50,
      "outputs": []
    },
    {
      "cell_type": "markdown",
      "metadata": {
        "id": "49f6e126"
      },
      "source": [
        "## Write data into the template\n",
        "\n",
        "### Subtask:\n",
        "Iterate through the processed data and write it into the appropriate rows of the loaded template, starting from the second row (assuming the first row contains headers).\n"
      ],
      "id": "49f6e126"
    },
    {
      "cell_type": "markdown",
      "metadata": {
        "id": "d81a8322"
      },
      "source": [
        "**Reasoning**:\n",
        "Iterate through the processed data and write it into the appropriate rows of the loaded template, starting from the second row.\n",
        "\n"
      ],
      "id": "d81a8322"
    },
    {
      "cell_type": "code",
      "metadata": {
        "id": "bc3a3c23"
      },
      "source": [
        "# Iterate through ordered_data and write to template_sheet\n",
        "for row_index, row_data in enumerate(ordered_data):\n",
        "    # openpyxl uses 1-based indexing, and we start writing from the second row\n",
        "    current_row = row_index + 2\n",
        "    for col_index, cell_value in enumerate(row_data):\n",
        "        # openpyxl uses 1-based indexing for columns as well\n",
        "        template_sheet.cell(row=current_row, column=col_index + 1).value = cell_value"
      ],
      "id": "bc3a3c23",
      "execution_count": 51,
      "outputs": []
    },
    {
      "cell_type": "markdown",
      "metadata": {
        "id": "ad260261"
      },
      "source": [
        "## Save the new file\n",
        "\n",
        "### Subtask:\n",
        "Save the modified template with the new data to a new Excel file.\n"
      ],
      "id": "ad260261"
    },
    {
      "cell_type": "markdown",
      "metadata": {
        "id": "eae70ee6"
      },
      "source": [
        "**Reasoning**:\n",
        "Save the modified template workbook to a new Excel file.\n",
        "\n"
      ],
      "id": "eae70ee6"
    },
    {
      "cell_type": "code",
      "metadata": {
        "id": "848ff7d4"
      },
      "source": [
        "# Define the name of the output file\n",
        "output_filename = 'Planilha_Cliente_Corrigida.xlsx'\n",
        "\n",
        "# Save the workbook\n",
        "template_wb.save(output_filename)"
      ],
      "id": "848ff7d4",
      "execution_count": 52,
      "outputs": []
    },
    {
      "cell_type": "markdown",
      "metadata": {
        "id": "6876d5dc"
      },
      "source": [
        "## Provide download link\n",
        "\n",
        "### Subtask:\n",
        "Generate a download link for the newly created file.\n"
      ],
      "id": "6876d5dc"
    },
    {
      "cell_type": "markdown",
      "metadata": {
        "id": "09c359dd"
      },
      "source": [
        "**Reasoning**:\n",
        "Import the necessary library and generate the download link for the output file.\n",
        "\n"
      ],
      "id": "09c359dd"
    },
    {
      "cell_type": "code",
      "metadata": {
        "colab": {
          "base_uri": "https://localhost:8080/",
          "height": 17
        },
        "id": "0113cf3a",
        "outputId": "c3f816e8-cb51-4e8d-9a77-6c9cb7681d68"
      },
      "source": [
        "from google.colab import files\n",
        "files.download(output_filename)"
      ],
      "id": "0113cf3a",
      "execution_count": 53,
      "outputs": [
        {
          "output_type": "display_data",
          "data": {
            "text/plain": [
              "<IPython.core.display.Javascript object>"
            ],
            "application/javascript": [
              "\n",
              "    async function download(id, filename, size) {\n",
              "      if (!google.colab.kernel.accessAllowed) {\n",
              "        return;\n",
              "      }\n",
              "      const div = document.createElement('div');\n",
              "      const label = document.createElement('label');\n",
              "      label.textContent = `Downloading \"${filename}\": `;\n",
              "      div.appendChild(label);\n",
              "      const progress = document.createElement('progress');\n",
              "      progress.max = size;\n",
              "      div.appendChild(progress);\n",
              "      document.body.appendChild(div);\n",
              "\n",
              "      const buffers = [];\n",
              "      let downloaded = 0;\n",
              "\n",
              "      const channel = await google.colab.kernel.comms.open(id);\n",
              "      // Send a message to notify the kernel that we're ready.\n",
              "      channel.send({})\n",
              "\n",
              "      for await (const message of channel.messages) {\n",
              "        // Send a message to notify the kernel that we're ready.\n",
              "        channel.send({})\n",
              "        if (message.buffers) {\n",
              "          for (const buffer of message.buffers) {\n",
              "            buffers.push(buffer);\n",
              "            downloaded += buffer.byteLength;\n",
              "            progress.value = downloaded;\n",
              "          }\n",
              "        }\n",
              "      }\n",
              "      const blob = new Blob(buffers, {type: 'application/binary'});\n",
              "      const a = document.createElement('a');\n",
              "      a.href = window.URL.createObjectURL(blob);\n",
              "      a.download = filename;\n",
              "      div.appendChild(a);\n",
              "      a.click();\n",
              "      div.remove();\n",
              "    }\n",
              "  "
            ]
          },
          "metadata": {}
        },
        {
          "output_type": "display_data",
          "data": {
            "text/plain": [
              "<IPython.core.display.Javascript object>"
            ],
            "application/javascript": [
              "download(\"download_cd000a4d-2227-48e9-b2ee-c9568c244812\", \"Planilha_Cliente_Corrigida.xlsx\", 19618)"
            ]
          },
          "metadata": {}
        }
      ]
    },
    {
      "cell_type": "markdown",
      "metadata": {
        "id": "2726dda6"
      },
      "source": [
        "## Summary:\n",
        "\n",
        "### Data Analysis Key Findings\n",
        "\n",
        "*   The data from `Planilha_Cliente_Com_Erros.xlsx` was successfully loaded and corrected.\n",
        "*   Corrections included rounding 'Comprimento (m)' to integers, 'Largura (m)' to 3 decimal places, replacing 'Trinc' with 'Trincas' in the 'Classe' column, converting dates, and changing 'Nordeste' to 'Não se Aplica' in the 'Sentido' column.\n",
        "*   The template file `Template_Kartado_Limpo.xlsx` was loaded, preserving its formatting.\n",
        "*   The corrected data was successfully written into the template file, aligning with the template's column structure.\n",
        "*   The final corrected data, formatted according to the template, was saved as `Planilha_Cliente_Corrigida.xlsx`.\n",
        "\n",
        "### Insights or Next Steps\n",
        "\n",
        "*   The process effectively cleaned and standardized the client data according to predefined rules and formatted it using a template, making it ready for further use or analysis.\n",
        "*   Consider adding validation steps to ensure the corrected data conforms to specific data types or ranges, potentially logging any values that could not be corrected as expected.\n"
      ],
      "id": "2726dda6"
    }
  ],
  "metadata": {
    "kernelspec": {
      "name": "python3",
      "language": "python",
      "display_name": "Python 3 (ipykernel)"
    },
    "colab": {
      "provenance": [],
      "include_colab_link": true
    }
  },
  "nbformat": 4,
  "nbformat_minor": 5
}